{
 "cells": [
  {
   "cell_type": "code",
   "execution_count": 9,
   "metadata": {},
   "outputs": [],
   "source": [
    "from keras.preprocessing.image import ImageDataGenerator\n",
    "from keras.models import Sequential\n",
    "from keras.layers import Conv2D, MaxPooling2D\n",
    "from keras.layers import Activation, Dropout, Flatten, Dense\n",
    "from keras import backend as K"
   ]
  },
  {
   "cell_type": "code",
   "execution_count": 10,
   "metadata": {},
   "outputs": [
    {
     "name": "stdout",
     "output_type": "stream",
     "text": [
      "Found 102 images belonging to 2 classes.\n",
      "Found 13 images belonging to 2 classes.\n"
     ]
    }
   ],
   "source": [
    "# Implement from https://blog.keras.io/building-powerful-image-classification-models-using-very-little-data.html\n",
    "\n",
    "\n",
    "# dimensions of our images.\n",
    "img_width, img_height = 150, 150\n",
    "\n",
    "train_data_dir = 'data/train'\n",
    "validation_data_dir = 'data/validation'\n",
    "nb_train_samples = 2000\n",
    "nb_validation_samples = 800\n",
    "epochs = 50\n",
    "batch_size = 16\n",
    "\n",
    "if K.image_data_format() == 'channels_first':\n",
    "    input_shape = (3, img_width, img_height)\n",
    "else:\n",
    "    input_shape = (img_width, img_height, 3)\n",
    "\n",
    "model = Sequential()\n",
    "model.add(Conv2D(32, (3, 3), input_shape=input_shape))\n",
    "model.add(Activation('relu'))\n",
    "model.add(MaxPooling2D(pool_size=(2, 2)))\n",
    "\n",
    "model.add(Conv2D(32, (3, 3)))\n",
    "model.add(Activation('relu'))\n",
    "model.add(MaxPooling2D(pool_size=(2, 2)))\n",
    "\n",
    "model.add(Conv2D(64, (3, 3)))\n",
    "model.add(Activation('relu'))\n",
    "model.add(MaxPooling2D(pool_size=(2, 2)))\n",
    "\n",
    "model.add(Flatten())\n",
    "model.add(Dense(64))\n",
    "model.add(Activation('relu'))\n",
    "model.add(Dropout(0.5))\n",
    "model.add(Dense(1))\n",
    "model.add(Activation('sigmoid'))\n",
    "\n",
    "model.compile(loss='binary_crossentropy',\n",
    "              optimizer='rmsprop',\n",
    "              metrics=['accuracy'])\n",
    "\n",
    "# this is the augmentation configuration we will use for training\n",
    "train_datagen = ImageDataGenerator(\n",
    "    rescale=1. / 255,\n",
    "    shear_range=0.2,\n",
    "    zoom_range=0.2,\n",
    "    horizontal_flip=True)\n",
    "\n",
    "# this is the augmentation configuration we will use for testing:\n",
    "# only rescaling\n",
    "test_datagen = ImageDataGenerator(rescale=1. / 255)\n",
    "\n",
    "train_generator = train_datagen.flow_from_directory(\n",
    "    train_data_dir,\n",
    "    target_size=(img_width, img_height),\n",
    "    batch_size=batch_size,\n",
    "    class_mode='binary')\n",
    "\n",
    "validation_generator = test_datagen.flow_from_directory(\n",
    "    validation_data_dir,\n",
    "    target_size=(img_width, img_height),\n",
    "    batch_size=batch_size,\n",
    "    class_mode='binary')\n"
   ]
  },
  {
   "cell_type": "code",
   "execution_count": null,
   "metadata": {},
   "outputs": [
    {
     "name": "stdout",
     "output_type": "stream",
     "text": [
      "Epoch 1/50\n",
      "125/125 [==============================] - 67s 532ms/step - loss: 0.1609 - acc: 0.9498 - val_loss: 0.0011 - val_acc: 1.0000\n",
      "Epoch 2/50\n",
      "125/125 [==============================] - 63s 505ms/step - loss: 0.0606 - acc: 0.9940 - val_loss: 1.8837e-04 - val_acc: 1.0000\n",
      "Epoch 3/50\n",
      "125/125 [==============================] - 71s 568ms/step - loss: 0.0645 - acc: 0.9955 - val_loss: 2.2984e-04 - val_acc: 1.0000\n",
      "Epoch 4/50\n",
      "125/125 [==============================] - 70s 557ms/step - loss: 4.7875e-05 - acc: 1.0000 - val_loss: 1.1034e-07 - val_acc: 1.0000\n",
      "Epoch 5/50\n",
      "125/125 [==============================] - 68s 541ms/step - loss: 0.0914 - acc: 0.9940 - val_loss: 1.1034e-07 - val_acc: 1.0000\n",
      "Epoch 6/50\n",
      "125/125 [==============================] - 68s 542ms/step - loss: 1.3036e-06 - acc: 1.0000 - val_loss: 1.1034e-07 - val_acc: 1.0000\n",
      "Epoch 7/50\n",
      "125/125 [==============================] - 66s 525ms/step - loss: 1.1363e-07 - acc: 1.0000 - val_loss: 1.1034e-07 - val_acc: 1.0000\n",
      "Epoch 8/50\n",
      "125/125 [==============================] - 64s 511ms/step - loss: 0.0239 - acc: 0.9975 - val_loss: 1.1034e-07 - val_acc: 1.0000\n",
      "Epoch 9/50\n",
      "125/125 [==============================] - 60s 478ms/step - loss: 1.5676e-07 - acc: 1.0000 - val_loss: 1.1034e-07 - val_acc: 1.0000\n",
      "Epoch 10/50\n",
      "125/125 [==============================] - 60s 478ms/step - loss: 0.2498 - acc: 0.9840 - val_loss: 1.1034e-07 - val_acc: 1.0000\n",
      "Epoch 11/50\n",
      "125/125 [==============================] - 62s 496ms/step - loss: 2.1010e-07 - acc: 1.0000 - val_loss: 1.1034e-07 - val_acc: 1.0000\n",
      "Epoch 12/50\n",
      "125/125 [==============================] - 61s 486ms/step - loss: 0.0538 - acc: 0.9960 - val_loss: 1.1034e-07 - val_acc: 1.0000\n",
      "Epoch 13/50\n",
      "125/125 [==============================] - 61s 487ms/step - loss: 1.4073e-06 - acc: 1.0000 - val_loss: 1.1034e-07 - val_acc: 1.0000\n",
      "Epoch 14/50\n",
      "125/125 [==============================] - 63s 505ms/step - loss: 3.4256e-04 - acc: 1.0000 - val_loss: 1.1034e-07 - val_acc: 1.0000\n",
      "Epoch 15/50\n",
      "125/125 [==============================] - 73s 588ms/step - loss: 0.4356 - acc: 0.9730 - val_loss: 1.1034e-07 - val_acc: 1.0000\n",
      "Epoch 16/50\n",
      "125/125 [==============================] - 73s 585ms/step - loss: 1.1263e-07 - acc: 1.0000 - val_loss: 1.1034e-07 - val_acc: 1.0000\n",
      "Epoch 17/50\n",
      "125/125 [==============================] - 67s 534ms/step - loss: 0.0019 - acc: 0.9990 - val_loss: 1.1034e-07 - val_acc: 1.0000\n",
      "Epoch 18/50\n",
      " 52/125 [===========>..................] - ETA: 35s - loss: 5.2398e-06 - acc: 1.0000"
     ]
    }
   ],
   "source": [
    "model.fit_generator(\n",
    "    train_generator,\n",
    "    steps_per_epoch=nb_train_samples // batch_size,\n",
    "    epochs=epochs,\n",
    "    validation_data=validation_generator,\n",
    "    validation_steps=nb_validation_samples // batch_size)\n",
    "model.save('classify.h5')\n",
    "model.save_weights('classify_weight.h5')"
   ]
  },
  {
   "cell_type": "code",
   "execution_count": null,
   "metadata": {},
   "outputs": [],
   "source": []
  }
 ],
 "metadata": {
  "kernelspec": {
   "display_name": "Python 3",
   "language": "python",
   "name": "python3"
  },
  "language_info": {
   "codemirror_mode": {
    "name": "ipython",
    "version": 3
   },
   "file_extension": ".py",
   "mimetype": "text/x-python",
   "name": "python",
   "nbconvert_exporter": "python",
   "pygments_lexer": "ipython3",
   "version": "3.6.5"
  }
 },
 "nbformat": 4,
 "nbformat_minor": 2
}
